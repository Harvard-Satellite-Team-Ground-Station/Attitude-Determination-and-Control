{
 "cells": [
  {
   "cell_type": "markdown",
   "metadata": {},
   "source": [
    "# GNC Torque Calculations - Grace\n",
    "\n"
   ]
  },
  {
   "cell_type": "code",
   "execution_count": 133,
   "metadata": {},
   "outputs": [],
   "source": [
    "import numpy as np"
   ]
  },
  {
   "cell_type": "markdown",
   "metadata": {},
   "source": [
    "### Constants utilized throughout calculations \n",
    "\n",
    "- $\\mu$ = Gravitational Parameter for Earth\n",
    "- $M$ = Magnetic constant of the Earth"
   ]
  },
  {
   "cell_type": "code",
   "execution_count": 134,
   "metadata": {},
   "outputs": [],
   "source": [
    "# Used in velocity Calculations \n",
    "mu = 3.986*10**(14) # [m^3 / s^2] Standard Gravitational Parameter\n",
    "# https://en.wikipedia.org/wiki/Standard_gravitational_parameter\n",
    "\n",
    "# Magnetic Dipole Calculations\n",
    "M = 7.96e15 # [tesla m^3] Magnetic constant of the Earth\n",
    "\n",
    "r_earth = 6378 # [km] Radius of Earth\n"
   ]
  },
  {
   "cell_type": "markdown",
   "metadata": {},
   "source": [
    "### Helper Functions\n",
    "\n",
    "- ```cubesat_vel``` : Determine velocity of spacecraft given orbit radius\n",
    "- ```cube_dims``` : Output dimensions X,Y,Z in prettier formats\n",
    "- ```moment_inertia``` : Moment of Inertia for a rectangle\n",
    "\n",
    "![Moment Of Inertia of a Rectangular Prism](MomentOfInertia.png)\n",
    "http://mechanicsmap.psu.edu/websites/centroidtables/centroids3D/centroids3D.html\n"
   ]
  },
  {
   "cell_type": "code",
   "execution_count": 135,
   "metadata": {},
   "outputs": [],
   "source": [
    "def cubesat_vel(r_orbit):\n",
    "    '''\n",
    "    mu = gravitational paramter combining G and mass of earth\n",
    "    a = r_orbit, or radius of the orbit, and earth's radius added\n",
    "    '''\n",
    "    #https://space.stackexchange.com/questions/19592/cubesat-orbit-determination \n",
    "    a = (r_earth + r_orbit)*1000\n",
    "    v = np.sqrt(mu/a)\n",
    "    \n",
    "    return v\n",
    "\n",
    "def cube_dims(x,y,z):\n",
    "    return x,y,z\n",
    "\n",
    "def moment_inertia(m,h,w,d):\n",
    "    '''\n",
    "    mass of the laminar rectangle \n",
    "    h is height of the rectangle\n",
    "    w is the width of the base of the rectangle\n",
    "    d is the base of rectangle    \n",
    "    '''\n",
    "    I_xx = (1/12)*m*(h**2+d**2)\n",
    "    I_yy = (1/12)*m*(w**2+d**2)\n",
    "    I_zz = (1/12)*m*(h**2+w**2)\n",
    "    return I_xx,I_yy,I_zz"
   ]
  },
  {
   "cell_type": "markdown",
   "metadata": {},
   "source": [
    "## Aerodynamic/Atmospheric Torque\n",
    "\n",
    "Only experienced near the earth's surface, very short time frame but not negligible. If torques are significant enough to use large portion of our stored momentum within reaction wheels, may be worth using **Magnetorquers**.\n",
    "\n",
    "Equation utilized:\n",
    "\n",
    "$$T_a = 0.5\\rho C_dAV^2(c_p - c_g)$$\n",
    "\n",
    "Where:\n",
    "\n",
    "\n",
    "- $T_a$ = Aerodynamic Torque\n",
    "- $\\rho$ = Air Density\n",
    "- $C_d$ = Drag Coefficient\n",
    "- $A$ = Area\n",
    "- $V$ = Spacecraft Velocity\n",
    "- $c_p$ = Offset Center of Pressure\n",
    "- $c_g$ = Center of Gravity\n"
   ]
  },
  {
   "cell_type": "code",
   "execution_count": 136,
   "metadata": {},
   "outputs": [],
   "source": [
    "# Aerodynamic/Atmospheric Torque\n",
    "\n",
    "def atmos_torque(rho,c_d,A_r,v,c_pa,c_m):\n",
    "    T_a = 0.5*rho*c_d*A_r*(v**2)*abs(c_pa-c_m)\n",
    "    return T_a"
   ]
  },
  {
   "cell_type": "markdown",
   "metadata": {},
   "source": [
    "## Magnetic Field Torque\n",
    "\n",
    "Only experienced near large planetary bodies. This torque will be a factor for CaliPER when located near earth. \n",
    "\n",
    "Equation utilized:\n",
    "\n",
    "$$T_m = D\\frac {M\\lambda} {R^3}$$\n",
    "\n",
    "Where:\n",
    "\n",
    "\n",
    "- $T_m$ = Magnetic Field Torque\n",
    "- $D$ = Earth's Magnetic Dipole\n",
    "- $M$ = Earth's Magnetic Moment\n",
    "- $\\lambda$ = Unitless function of the magnetic latitude (1 at latitude, 2 at poles)\n",
    "- $R$ = Radius of Spacecraft from Earth's Dipole Center\n",
    "\n",
    "*Note, $\\frac {M\\lambda} {R^3}$  is calculating $B$, also known as magnetic field strength*\n",
    "\n",
    "To get more detailed information, check out this paper from NASA: https://ntrs.nasa.gov/api/citations/19690020961/downloads/19690020961.pdf"
   ]
  },
  {
   "cell_type": "code",
   "execution_count": 137,
   "metadata": {},
   "outputs": [],
   "source": [
    "# Magnetic Field Torque\n",
    "\n",
    "def mag_torque(lamb,r_orbit,D):\n",
    "    \n",
    "    # D is in units of [A m^2]\n",
    "    R = (r_earth + r_orbit)*1000 # [m] convert to meters\n",
    "    B = (M*lamb)/(R**3) # [Nm]\n",
    "    \n",
    "    mag_torque = D*B # [Nm]\n",
    "    return mag_torque"
   ]
  },
  {
   "cell_type": "markdown",
   "metadata": {},
   "source": [
    "## Gravitational Gradient Torque\n",
    "\n",
    "Only experienced near large planetary bodies. This torque will be a factor for CaliPER when located near earth. \n",
    "\n",
    "Equation utilized:\n",
    "\n",
    "$$T_g = 3\\frac {\\mu} {2R^3} |I_z - I_y|sin(2\\theta)$$\n",
    "\n",
    "Where:\n",
    "\n",
    "\n",
    "- $T_g$ = Gravitational Gradient Torque\n",
    "- $\\mu$ = Earth's standard gravitational parameter\n",
    "- $\\theta$ = maximum deviation of spacecraft's Z axis\n",
    "- $R$ = Radius of spacecraft from earth's center\n",
    "- $I_z$ = Moment of inertia (Z axis) of spacecraft\n",
    "- $I_y$ = Moment of inertia (Y axis) of spacecraft"
   ]
  },
  {
   "cell_type": "code",
   "execution_count": 138,
   "metadata": {},
   "outputs": [],
   "source": [
    "# Gravitational Gradient Torque\n",
    "\n",
    "def gravity_torque(r_orbit,Iz,Iy,theta):\n",
    "    '''\n",
    "    Iz = #moment of intertia about Z axis in kgm2\n",
    "    Iy = #moment of intertia about Y axis in kgm2\n",
    "    '''\n",
    "    R = (r_earth + r_orbit)*1000 # [m]\n",
    "    theta = (theta*np.pi)/180 # [rad]\n",
    "    grav_torque = 1.5*(mu/(R**3))*abs(Iz-Iy)*np.sin(2*theta)\n",
    "    \n",
    "    return grav_torque"
   ]
  },
  {
   "cell_type": "markdown",
   "metadata": {},
   "source": [
    "## Solar Radiation Torque\n",
    "\n",
    "CaliPER will experience this throughout the entire mission duration, and have the most impact on the spacecraft.\n",
    "\n",
    "Equation utilized:\n",
    "\n",
    "$$T_p = \\frac {F_s}{c}A_s(1+q)cos(\\theta)(c_p - c_g)$$\n",
    "\n",
    "Where:\n",
    "\n",
    "\n",
    "- $T_p$ = Solar Radiation Torque\n",
    "- $q$ = Reflectance factor of Spacecraft\n",
    "- $F_s$ = Solar FLux\n",
    "- $c$ = Speed of Light\n",
    "- $A_s$ = Surface area of spacecraft\n",
    "- $c_p$ = Offset of center of solar pressure\n",
    "- $c_g$ = Center of Gravity\n",
    "- $\\theta$ = Angle of incidence to the sun"
   ]
  },
  {
   "cell_type": "code",
   "execution_count": 139,
   "metadata": {},
   "outputs": [],
   "source": [
    "# Gravitational Gradient Torque\n",
    "\n",
    "def solar_torque(solar_flux,A_s,q,phi,c_pa,c_m):\n",
    "    '''\n",
    "    #solar flux changes as func of distance\n",
    "    solar_flux = 1367 #solar constant adjusted for actual distance from the sun (W/m2)\n",
    "    c = 3e8 #speed of light, m/s\n",
    "    A_s = #sunlit surface area, m2\n",
    "    q = #refelctance, 0 for perfect absorption, 1 for perfect reflectance\n",
    "    phi = #angle of incidence from the sun\n",
    "    c_pa = 0 # center of pressure\n",
    "    c_m = 0.07 #center of mass in z_axis\n",
    "    '''\n",
    "    \n",
    "    c= 3e8\n",
    "    phi = (phi*np.pi)/180\n",
    "    solar_torque = (solar_flux/c)*A_s*(1+q)*abs(c_pa-c_m)*np.cos(phi)\n",
    "    return solar_torque"
   ]
  },
  {
   "cell_type": "markdown",
   "metadata": {},
   "source": [
    "# Test using values from this paper\n",
    "\n",
    "Paper found here: https://ntrs.nasa.gov/api/citations/20110007876/downloads/20110007876.pdf"
   ]
  },
  {
   "cell_type": "code",
   "execution_count": 140,
   "metadata": {},
   "outputs": [
    {
     "name": "stdout",
     "output_type": "stream",
     "text": [
      "atmospheric torque Nm:  3.7168126589432056e-07\n",
      "magnetic torque Nm:  2.132578360799018e-05\n",
      "gravitational torque Nm:  1.4711469342842513e-06\n",
      "solar torque Nm:  9.62368e-07\n"
     ]
    }
   ],
   "source": [
    "v_test = cubesat_vel(700)\n",
    "P1atmosY = atmos_torque(A_r=(1.2*1.1), v=v_test, rho=1e-13,c_d=2,c_pa=0.05, c_m=0)\n",
    "print('atmospheric torque Nm: ',P1atmosY)\n",
    "test_mag = mag_torque(lamb=1.9,r_orbit=700,D=0.5)\n",
    "print('magnetic torque Nm: ',test_mag)\n",
    "test_grav = gravity_torque(r_orbit=700,Iz=25,Iy=50,theta=1)\n",
    "print('gravitational torque Nm: ',test_grav)\n",
    "test_sol = solar_torque(solar_flux=1367,A_s=(1.2*1.1),q=0.6,phi=0,c_pa=0.1,c_m=0)\n",
    "print('solar torque Nm: ',test_sol)\n"
   ]
  },
  {
   "cell_type": "markdown",
   "metadata": {},
   "source": [
    "## Phase 1 Calculations\n",
    "\n",
    "For this phase, as we in close proximity to earth after it's initial launch, we will experience **all four external torques:** \n",
    "- atmospheric\n",
    "- magnetic\n",
    "- solar\n",
    "- gravitational gradient\n",
    "\n",
    "*In addition, it will need to detumble after detaching from the launch vehicle.*\n",
    "\n",
    "#### Parameters:\n",
    "\n",
    "- Orbit: 500 km\n",
    "- Density: 1.70x10^-11 kg*m^3\n",
    "- Drag Coefficient: 2.5 \n",
    "- Center of Pressure: 0 (Assume at the Center, nothing deployed yet)\n",
    "- Dimensions of the spacecraft (nothing will be deployed yet at this stage): \n",
    "    - x = 0.2m\n",
    "    - y = 0.1m\n",
    "    - z = 0.3m\n",
    "\n"
   ]
  },
  {
   "cell_type": "code",
   "execution_count": 141,
   "metadata": {},
   "outputs": [
    {
     "name": "stdout",
     "output_type": "stream",
     "text": [
      "atmospheric torque:  0.005172295725501598 [mNm]\n",
      "magnetic torque:  0.004648150209226018 [mNm]\n",
      "gravitational torque:  0.00014700497276361996 [mNm]\n",
      "solar torque:  3.06208e-05 [mNm]\n"
     ]
    }
   ],
   "source": [
    "r = 500 # [km] insertion orbit altitude\n",
    "x_cube,y_cube,z_cube = cube_dims(x=0.2,y=0.1,z=0.3)\n",
    "worst_cgx,worst_cgy,worst_cgz = cube_dims(x=0.045,y=0.02,z=0.07)\n",
    "\n",
    "### ------------ Aerodynamic / Atmospheric Torques ------------\n",
    "\n",
    "rho_500km = 1.70*10**(-11) # [kg m^3] http://www.braeunig.us/space/atmos.htm\n",
    "# Assume worst case, high solar activity\n",
    "# https://space.stackexchange.com/questions/51485/what-is-the-density-of-the-earths-atmosphere-at-an-altitude-of-four-hundred-kil\n",
    "\n",
    "c_d = 2.5 # Typical Drag coefficient for spacecraft (ranges between 2.0-2.5)\n",
    "# https://ntrs.nasa.gov/api/citations/20110007876/downloads/20110007876.pdf\n",
    "# If desired, can calculate more detailed drag coefficients at:\n",
    "# http://eecs.uci.edu/~swallace//papers_wallace/pdf/GCD-Moe-June1993-Refinements.pdf\n",
    "\n",
    "\n",
    "v_500km = cubesat_vel(r)\n",
    "P1atmosY = atmos_torque(A_r=(x_cube*z_cube), v=v_500km, rho=rho_500km,c_d=2.5,c_pa=0, c_m=worst_cgz)\n",
    "P1atmosX = 0 #not facing drag in worst case\n",
    "P1atmosZ = 0 #not facing drag in worst case\n",
    "print('atmospheric torque: ',P1atmosY*1e3, \"[mNm]\")\n",
    "\n",
    "\n",
    "### ------------ Magnetic Field Torques ------------\n",
    "\n",
    "polar_lambda = 1.9 #63 deg inclination, ISS; SMAD recommended\n",
    "D_orbit = 0.1 #suggested in SMAD\n",
    "P1mag = mag_torque(lamb=polar_lambda,r_orbit=r,D=D_orbit)\n",
    "print('magnetic torque: ',P1mag*1e3,'[mNm]')\n",
    "\n",
    "\n",
    "### ------------ Gravitational Torques ------------\n",
    "\n",
    "max_mass_cube = 12 # [kg], max of cubesat\n",
    "IxxP1, IyyP1, IzzP1 = moment_inertia(m=max_mass_cube,h=y_cube,w=x_cube,d=z_cube)\n",
    "P1grav = gravity_torque(r_orbit=r,Iz=IzzP1,Iy=IyyP1,theta=45)\n",
    "print('gravitational torque: ',P1grav*1e3,'[mNm]')\n",
    "\n",
    "\n",
    "\n",
    "### ------------ Solar Radiation Torques ------------\n",
    "\n",
    "LEO_flux=1367 # [W/m2] standard near earth\n",
    "sixUreflect = 0.6 # reflectance 0.6 via SMAD\n",
    "P1solY = solar_torque(solar_flux=LEO_flux,A_s=(x_cube*z_cube),q=sixUreflect,phi=0,c_pa=0,c_m=worst_cgz)\n",
    "P1solX = 0 # not being hit by sun in worst case\n",
    "P1solZ = 0 # not being hit by sun in worst case\n",
    "print('solar torque: ',P1solY*1e3,'[mNm]') \n",
    "\n"
   ]
  },
  {
   "cell_type": "markdown",
   "metadata": {},
   "source": [
    "### Questions for David and Jonathan:\n",
    "\n",
    "#### David:\n",
    "- Why do you chose $\\rho$ to be 7.7e-14? This is 2 orders of mag lower than what the JPL kids last year chose 4.840*10e(-11)\n",
    "    - (Page 114, 4.7.1.2) >> Caliper is expected to separate from launch vehicle at an altitude of 500 km on an escape trajectory towards Mars. Currently, the exact orbital parameters are unknown. What is known is that the launch vehicle will never pass into Earth’s shadow at any point. To meet this requirement, CaliPER’s initial trajectory will be assumed to be at a high inclination with a beta-angle between 69 and 90 degrees, longitude of the ascending node of 90 degrees, and argument of periapsis of 0 degrees. These assumptions ensure CaliPER will not pass into Earth’s shadow when heading away from Earth and that the initial motion is in the direction of Earth’s velocity vector with respect to the Sun.\n",
    "- Can we assume that other two axes do nothing in drag? like could there be a case where drag with all 3 axes could cause more torques than just everything in one direction?\n",
    "- Magnetic torques, I saw a source with tesla = 7.96*10^15 instead of 7.8*10^15 https://www.valispace.com/how-to-iii-calculate-satellite-disturbance-torques/\n",
    "- also tiny error, you have variables D and B flipped for Magnetic torques but like that gives the same answer so i guess it okie\n",
    "- I haven't checked your magnetic D and lambda values, I do wanna make sure we got those right (I couldn't open SMAD)\n",
    "- gravity gradient calcs: are these valid moments of inertias if we are looking at a 3d box instaed a 2D rectangle? http://mechanicsmap.psu.edu/websites/centroidtables/centroids3D/centroids3D.html"
   ]
  },
  {
   "cell_type": "markdown",
   "metadata": {},
   "source": [
    "\n",
    "\n",
    "$$\\theta = P_N * 11.25-5.625$$\n",
    "\n",
    "where $$P_N =\n",
    "\n",
    "$$\\theta = (\\frac{L_1}{L_2}*P_1 +(1 - \\frac{L_1}{L_2})*P_2) * 10$$\n",
    "\n",
    "- $\\theta$ = Angle\n",
    "- $P_1$ = Photodiode 1 location from 1-16 on linear array\n",
    "- $P_2$ = Photodiode 2 location from 1-16 on linear array\n",
    "- $L_1$ = Light intensity on Photodiode 1\n",
    "- $L_2$ = Light intensity on Photodiode 2"
   ]
  }
 ],
 "metadata": {
  "kernelspec": {
   "display_name": "Python 3.7.6 ('base')",
   "language": "python",
   "name": "python3"
  },
  "language_info": {
   "codemirror_mode": {
    "name": "ipython",
    "version": 3
   },
   "file_extension": ".py",
   "mimetype": "text/x-python",
   "name": "python",
   "nbconvert_exporter": "python",
   "pygments_lexer": "ipython3",
   "version": "3.7.6"
  },
  "orig_nbformat": 4,
  "vscode": {
   "interpreter": {
    "hash": "06a1d3bb80e5f1162f329fb8a1d543a13fd16c37ff33e4c383b3299552056760"
   }
  }
 },
 "nbformat": 4,
 "nbformat_minor": 2
}
